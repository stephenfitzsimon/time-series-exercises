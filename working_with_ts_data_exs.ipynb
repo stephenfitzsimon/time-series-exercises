{
 "cells": [
  {
   "cell_type": "markdown",
   "id": "8790b4dd",
   "metadata": {},
   "source": [
    "# Working With Time Series in Pandas"
   ]
  },
  {
   "cell_type": "code",
   "execution_count": 1,
   "id": "fd514565",
   "metadata": {},
   "outputs": [],
   "source": [
    "import pandas as pd\n",
    "from vega_datasets import data\n",
    "import matplotlib.pyplot as plt\n",
    "import seaborn as sns"
   ]
  },
  {
   "cell_type": "code",
   "execution_count": 2,
   "id": "50553bdd",
   "metadata": {},
   "outputs": [],
   "source": [
    "df = data.sf_temps()"
   ]
  },
  {
   "cell_type": "markdown",
   "id": "c9621e54",
   "metadata": {},
   "source": [
    "1. Resample by the day and take the average temperature. Visualize the average temperature over time."
   ]
  },
  {
   "cell_type": "code",
   "execution_count": 3,
   "id": "27613afd",
   "metadata": {},
   "outputs": [
    {
     "data": {
      "text/html": [
       "<div>\n",
       "<style scoped>\n",
       "    .dataframe tbody tr th:only-of-type {\n",
       "        vertical-align: middle;\n",
       "    }\n",
       "\n",
       "    .dataframe tbody tr th {\n",
       "        vertical-align: top;\n",
       "    }\n",
       "\n",
       "    .dataframe thead th {\n",
       "        text-align: right;\n",
       "    }\n",
       "</style>\n",
       "<table border=\"1\" class=\"dataframe\">\n",
       "  <thead>\n",
       "    <tr style=\"text-align: right;\">\n",
       "      <th></th>\n",
       "      <th>temp</th>\n",
       "    </tr>\n",
       "    <tr>\n",
       "      <th>date</th>\n",
       "      <th></th>\n",
       "    </tr>\n",
       "  </thead>\n",
       "  <tbody>\n",
       "    <tr>\n",
       "      <th>2010-01-01 00:00:00</th>\n",
       "      <td>47.8</td>\n",
       "    </tr>\n",
       "    <tr>\n",
       "      <th>2010-01-01 01:00:00</th>\n",
       "      <td>47.4</td>\n",
       "    </tr>\n",
       "    <tr>\n",
       "      <th>2010-01-01 02:00:00</th>\n",
       "      <td>46.9</td>\n",
       "    </tr>\n",
       "    <tr>\n",
       "      <th>2010-01-01 03:00:00</th>\n",
       "      <td>46.5</td>\n",
       "    </tr>\n",
       "    <tr>\n",
       "      <th>2010-01-01 04:00:00</th>\n",
       "      <td>46.0</td>\n",
       "    </tr>\n",
       "    <tr>\n",
       "      <th>...</th>\n",
       "      <td>...</td>\n",
       "    </tr>\n",
       "    <tr>\n",
       "      <th>2010-12-31 19:00:00</th>\n",
       "      <td>50.4</td>\n",
       "    </tr>\n",
       "    <tr>\n",
       "      <th>2010-12-31 20:00:00</th>\n",
       "      <td>49.9</td>\n",
       "    </tr>\n",
       "    <tr>\n",
       "      <th>2010-12-31 21:00:00</th>\n",
       "      <td>49.4</td>\n",
       "    </tr>\n",
       "    <tr>\n",
       "      <th>2010-12-31 22:00:00</th>\n",
       "      <td>48.8</td>\n",
       "    </tr>\n",
       "    <tr>\n",
       "      <th>2010-12-31 23:00:00</th>\n",
       "      <td>48.3</td>\n",
       "    </tr>\n",
       "  </tbody>\n",
       "</table>\n",
       "<p>8759 rows × 1 columns</p>\n",
       "</div>"
      ],
      "text/plain": [
       "                     temp\n",
       "date                     \n",
       "2010-01-01 00:00:00  47.8\n",
       "2010-01-01 01:00:00  47.4\n",
       "2010-01-01 02:00:00  46.9\n",
       "2010-01-01 03:00:00  46.5\n",
       "2010-01-01 04:00:00  46.0\n",
       "...                   ...\n",
       "2010-12-31 19:00:00  50.4\n",
       "2010-12-31 20:00:00  49.9\n",
       "2010-12-31 21:00:00  49.4\n",
       "2010-12-31 22:00:00  48.8\n",
       "2010-12-31 23:00:00  48.3\n",
       "\n",
       "[8759 rows x 1 columns]"
      ]
     },
     "execution_count": 3,
     "metadata": {},
     "output_type": "execute_result"
    }
   ],
   "source": [
    "df = df.set_index('date')\n",
    "df"
   ]
  },
  {
   "cell_type": "code",
   "execution_count": 4,
   "id": "90d0aaed",
   "metadata": {},
   "outputs": [
    {
     "data": {
      "text/html": [
       "<div>\n",
       "<style scoped>\n",
       "    .dataframe tbody tr th:only-of-type {\n",
       "        vertical-align: middle;\n",
       "    }\n",
       "\n",
       "    .dataframe tbody tr th {\n",
       "        vertical-align: top;\n",
       "    }\n",
       "\n",
       "    .dataframe thead th {\n",
       "        text-align: right;\n",
       "    }\n",
       "</style>\n",
       "<table border=\"1\" class=\"dataframe\">\n",
       "  <thead>\n",
       "    <tr style=\"text-align: right;\">\n",
       "      <th></th>\n",
       "      <th>temp</th>\n",
       "    </tr>\n",
       "    <tr>\n",
       "      <th>date</th>\n",
       "      <th></th>\n",
       "    </tr>\n",
       "  </thead>\n",
       "  <tbody>\n",
       "    <tr>\n",
       "      <th>2010-01-01</th>\n",
       "      <td>49.170833</td>\n",
       "    </tr>\n",
       "    <tr>\n",
       "      <th>2010-01-02</th>\n",
       "      <td>49.304167</td>\n",
       "    </tr>\n",
       "    <tr>\n",
       "      <th>2010-01-03</th>\n",
       "      <td>49.391667</td>\n",
       "    </tr>\n",
       "    <tr>\n",
       "      <th>2010-01-04</th>\n",
       "      <td>49.445833</td>\n",
       "    </tr>\n",
       "    <tr>\n",
       "      <th>2010-01-05</th>\n",
       "      <td>49.491667</td>\n",
       "    </tr>\n",
       "    <tr>\n",
       "      <th>...</th>\n",
       "      <td>...</td>\n",
       "    </tr>\n",
       "    <tr>\n",
       "      <th>2010-12-27</th>\n",
       "      <td>48.991667</td>\n",
       "    </tr>\n",
       "    <tr>\n",
       "      <th>2010-12-28</th>\n",
       "      <td>49.000000</td>\n",
       "    </tr>\n",
       "    <tr>\n",
       "      <th>2010-12-29</th>\n",
       "      <td>49.012500</td>\n",
       "    </tr>\n",
       "    <tr>\n",
       "      <th>2010-12-30</th>\n",
       "      <td>49.012500</td>\n",
       "    </tr>\n",
       "    <tr>\n",
       "      <th>2010-12-31</th>\n",
       "      <td>49.116667</td>\n",
       "    </tr>\n",
       "  </tbody>\n",
       "</table>\n",
       "<p>365 rows × 1 columns</p>\n",
       "</div>"
      ],
      "text/plain": [
       "                 temp\n",
       "date                 \n",
       "2010-01-01  49.170833\n",
       "2010-01-02  49.304167\n",
       "2010-01-03  49.391667\n",
       "2010-01-04  49.445833\n",
       "2010-01-05  49.491667\n",
       "...               ...\n",
       "2010-12-27  48.991667\n",
       "2010-12-28  49.000000\n",
       "2010-12-29  49.012500\n",
       "2010-12-30  49.012500\n",
       "2010-12-31  49.116667\n",
       "\n",
       "[365 rows x 1 columns]"
      ]
     },
     "execution_count": 4,
     "metadata": {},
     "output_type": "execute_result"
    }
   ],
   "source": [
    "df.resample('D').mean()"
   ]
  },
  {
   "cell_type": "code",
   "execution_count": 5,
   "id": "ec4fd067",
   "metadata": {},
   "outputs": [
    {
     "data": {
      "text/plain": [
       "<AxesSubplot:xlabel='date'>"
      ]
     },
     "execution_count": 5,
     "metadata": {},
     "output_type": "execute_result"
    },
    {
     "data": {
      "image/png": "[encoded data removed]",
      "text/plain": [
       "<Figure size 432x288 with 1 Axes>"
      ]
     },
     "metadata": {
      "needs_background": "light"
     },
     "output_type": "display_data"
    }
   ],
   "source": [
    "df.resample('D').mean().plot()"
   ]
  },
  {
   "cell_type": "markdown",
   "id": "27223d33",
   "metadata": {},
   "source": [
    "2. Write the code necessary to visualize the minimum temperature over time."
   ]
  },
  {
   "cell_type": "code",
   "execution_count": 6,
   "id": "edba0dac",
   "metadata": {},
   "outputs": [
    {
     "data": {
      "text/html": [
       "<div>\n",
       "<style scoped>\n",
       "    .dataframe tbody tr th:only-of-type {\n",
       "        vertical-align: middle;\n",
       "    }\n",
       "\n",
       "    .dataframe tbody tr th {\n",
       "        vertical-align: top;\n",
       "    }\n",
       "\n",
       "    .dataframe thead th {\n",
       "        text-align: right;\n",
       "    }\n",
       "</style>\n",
       "<table border=\"1\" class=\"dataframe\">\n",
       "  <thead>\n",
       "    <tr style=\"text-align: right;\">\n",
       "      <th></th>\n",
       "      <th>temp</th>\n",
       "    </tr>\n",
       "    <tr>\n",
       "      <th>date</th>\n",
       "      <th></th>\n",
       "    </tr>\n",
       "  </thead>\n",
       "  <tbody>\n",
       "    <tr>\n",
       "      <th>2010-01-01</th>\n",
       "      <td>45.8</td>\n",
       "    </tr>\n",
       "    <tr>\n",
       "      <th>2010-01-02</th>\n",
       "      <td>46.0</td>\n",
       "    </tr>\n",
       "    <tr>\n",
       "      <th>2010-01-03</th>\n",
       "      <td>46.1</td>\n",
       "    </tr>\n",
       "    <tr>\n",
       "      <th>2010-01-04</th>\n",
       "      <td>46.1</td>\n",
       "    </tr>\n",
       "    <tr>\n",
       "      <th>2010-01-05</th>\n",
       "      <td>46.1</td>\n",
       "    </tr>\n",
       "    <tr>\n",
       "      <th>...</th>\n",
       "      <td>...</td>\n",
       "    </tr>\n",
       "    <tr>\n",
       "      <th>2010-12-27</th>\n",
       "      <td>45.6</td>\n",
       "    </tr>\n",
       "    <tr>\n",
       "      <th>2010-12-28</th>\n",
       "      <td>45.6</td>\n",
       "    </tr>\n",
       "    <tr>\n",
       "      <th>2010-12-29</th>\n",
       "      <td>45.6</td>\n",
       "    </tr>\n",
       "    <tr>\n",
       "      <th>2010-12-30</th>\n",
       "      <td>45.6</td>\n",
       "    </tr>\n",
       "    <tr>\n",
       "      <th>2010-12-31</th>\n",
       "      <td>45.8</td>\n",
       "    </tr>\n",
       "  </tbody>\n",
       "</table>\n",
       "<p>365 rows × 1 columns</p>\n",
       "</div>"
      ],
      "text/plain": [
       "            temp\n",
       "date            \n",
       "2010-01-01  45.8\n",
       "2010-01-02  46.0\n",
       "2010-01-03  46.1\n",
       "2010-01-04  46.1\n",
       "2010-01-05  46.1\n",
       "...          ...\n",
       "2010-12-27  45.6\n",
       "2010-12-28  45.6\n",
       "2010-12-29  45.6\n",
       "2010-12-30  45.6\n",
       "2010-12-31  45.8\n",
       "\n",
       "[365 rows x 1 columns]"
      ]
     },
     "execution_count": 6,
     "metadata": {},
     "output_type": "execute_result"
    }
   ],
   "source": [
    "df.resample('D').min()"
   ]
  },
  {
   "cell_type": "code",
   "execution_count": 7,
   "id": "a8f0f8bb",
   "metadata": {},
   "outputs": [
    {
     "data": {
      "text/plain": [
       "<AxesSubplot:xlabel='date'>"
      ]
     },
     "execution_count": 7,
     "metadata": {},
     "output_type": "execute_result"
    },
    {
     "data": {
      "image/png": "[encoded data removed]",
      "text/plain": [
       "<Figure size 432x288 with 1 Axes>"
      ]
     },
     "metadata": {
      "needs_background": "light"
     },
     "output_type": "display_data"
    }
   ],
   "source": [
    "df.resample('D').min().plot()"
   ]
  },
  {
   "cell_type": "markdown",
   "id": "72bc2baa",
   "metadata": {},
   "source": [
    "3. Write the code necessary to visualize the maximum temperature over time."
   ]
  },
  {
   "cell_type": "code",
   "execution_count": 8,
   "id": "f2f29bae",
   "metadata": {},
   "outputs": [
    {
     "data": {
      "text/plain": [
       "<AxesSubplot:xlabel='date'>"
      ]
     },
     "execution_count": 8,
     "metadata": {},
     "output_type": "execute_result"
    },
    {
     "data": {
      "image/png": "[encoded data removed]",
      "text/plain": [
       "<Figure size 432x288 with 1 Axes>"
      ]
     },
     "metadata": {
      "needs_background": "light"
     },
     "output_type": "display_data"
    }
   ],
   "source": [
    "df.resample('D').max().plot()"
   ]
  },
  {
   "cell_type": "markdown",
   "id": "c8633b6f",
   "metadata": {},
   "source": [
    "4. Which month is the coldest, on average?"
   ]
  },
  {
   "cell_type": "code",
   "execution_count": 9,
   "id": "10213031",
   "metadata": {},
   "outputs": [
    {
     "data": {
      "text/html": [
       "<div>\n",
       "<style scoped>\n",
       "    .dataframe tbody tr th:only-of-type {\n",
       "        vertical-align: middle;\n",
       "    }\n",
       "\n",
       "    .dataframe tbody tr th {\n",
       "        vertical-align: top;\n",
       "    }\n",
       "\n",
       "    .dataframe thead th {\n",
       "        text-align: right;\n",
       "    }\n",
       "</style>\n",
       "<table border=\"1\" class=\"dataframe\">\n",
       "  <thead>\n",
       "    <tr style=\"text-align: right;\">\n",
       "      <th></th>\n",
       "      <th>temp</th>\n",
       "    </tr>\n",
       "    <tr>\n",
       "      <th>date</th>\n",
       "      <th></th>\n",
       "    </tr>\n",
       "  </thead>\n",
       "  <tbody>\n",
       "    <tr>\n",
       "      <th>2010-01-31</th>\n",
       "      <td>49.984140</td>\n",
       "    </tr>\n",
       "    <tr>\n",
       "      <th>2010-12-31</th>\n",
       "      <td>50.498253</td>\n",
       "    </tr>\n",
       "    <tr>\n",
       "      <th>2010-02-28</th>\n",
       "      <td>52.243899</td>\n",
       "    </tr>\n",
       "    <tr>\n",
       "      <th>2010-03-31</th>\n",
       "      <td>53.956528</td>\n",
       "    </tr>\n",
       "    <tr>\n",
       "      <th>2010-11-30</th>\n",
       "      <td>55.185139</td>\n",
       "    </tr>\n",
       "    <tr>\n",
       "      <th>2010-04-30</th>\n",
       "      <td>55.633056</td>\n",
       "    </tr>\n",
       "    <tr>\n",
       "      <th>2010-05-31</th>\n",
       "      <td>57.970968</td>\n",
       "    </tr>\n",
       "    <tr>\n",
       "      <th>2010-10-31</th>\n",
       "      <td>60.253091</td>\n",
       "    </tr>\n",
       "    <tr>\n",
       "      <th>2010-06-30</th>\n",
       "      <td>60.444722</td>\n",
       "    </tr>\n",
       "    <tr>\n",
       "      <th>2010-07-31</th>\n",
       "      <td>61.765457</td>\n",
       "    </tr>\n",
       "    <tr>\n",
       "      <th>2010-08-31</th>\n",
       "      <td>62.405376</td>\n",
       "    </tr>\n",
       "    <tr>\n",
       "      <th>2010-09-30</th>\n",
       "      <td>62.487083</td>\n",
       "    </tr>\n",
       "  </tbody>\n",
       "</table>\n",
       "</div>"
      ],
      "text/plain": [
       "                 temp\n",
       "date                 \n",
       "2010-01-31  49.984140\n",
       "2010-12-31  50.498253\n",
       "2010-02-28  52.243899\n",
       "2010-03-31  53.956528\n",
       "2010-11-30  55.185139\n",
       "2010-04-30  55.633056\n",
       "2010-05-31  57.970968\n",
       "2010-10-31  60.253091\n",
       "2010-06-30  60.444722\n",
       "2010-07-31  61.765457\n",
       "2010-08-31  62.405376\n",
       "2010-09-30  62.487083"
      ]
     },
     "execution_count": 9,
     "metadata": {},
     "output_type": "execute_result"
    }
   ],
   "source": [
    "# january\n",
    "df.resample('M').mean().sort_values('temp')"
   ]
  },
  {
   "cell_type": "markdown",
   "id": "1ac5e595",
   "metadata": {},
   "source": [
    "5. Which month has the highest average temperature?"
   ]
  },
  {
   "cell_type": "code",
   "execution_count": 10,
   "id": "13bd719e",
   "metadata": {},
   "outputs": [
    {
     "data": {
      "text/html": [
       "<div>\n",
       "<style scoped>\n",
       "    .dataframe tbody tr th:only-of-type {\n",
       "        vertical-align: middle;\n",
       "    }\n",
       "\n",
       "    .dataframe tbody tr th {\n",
       "        vertical-align: top;\n",
       "    }\n",
       "\n",
       "    .dataframe thead th {\n",
       "        text-align: right;\n",
       "    }\n",
       "</style>\n",
       "<table border=\"1\" class=\"dataframe\">\n",
       "  <thead>\n",
       "    <tr style=\"text-align: right;\">\n",
       "      <th></th>\n",
       "      <th>temp</th>\n",
       "    </tr>\n",
       "    <tr>\n",
       "      <th>date</th>\n",
       "      <th></th>\n",
       "    </tr>\n",
       "  </thead>\n",
       "  <tbody>\n",
       "    <tr>\n",
       "      <th>2010-09-30</th>\n",
       "      <td>62.487083</td>\n",
       "    </tr>\n",
       "    <tr>\n",
       "      <th>2010-08-31</th>\n",
       "      <td>62.405376</td>\n",
       "    </tr>\n",
       "    <tr>\n",
       "      <th>2010-07-31</th>\n",
       "      <td>61.765457</td>\n",
       "    </tr>\n",
       "    <tr>\n",
       "      <th>2010-06-30</th>\n",
       "      <td>60.444722</td>\n",
       "    </tr>\n",
       "    <tr>\n",
       "      <th>2010-10-31</th>\n",
       "      <td>60.253091</td>\n",
       "    </tr>\n",
       "    <tr>\n",
       "      <th>2010-05-31</th>\n",
       "      <td>57.970968</td>\n",
       "    </tr>\n",
       "    <tr>\n",
       "      <th>2010-04-30</th>\n",
       "      <td>55.633056</td>\n",
       "    </tr>\n",
       "    <tr>\n",
       "      <th>2010-11-30</th>\n",
       "      <td>55.185139</td>\n",
       "    </tr>\n",
       "    <tr>\n",
       "      <th>2010-03-31</th>\n",
       "      <td>53.956528</td>\n",
       "    </tr>\n",
       "    <tr>\n",
       "      <th>2010-02-28</th>\n",
       "      <td>52.243899</td>\n",
       "    </tr>\n",
       "    <tr>\n",
       "      <th>2010-12-31</th>\n",
       "      <td>50.498253</td>\n",
       "    </tr>\n",
       "    <tr>\n",
       "      <th>2010-01-31</th>\n",
       "      <td>49.984140</td>\n",
       "    </tr>\n",
       "  </tbody>\n",
       "</table>\n",
       "</div>"
      ],
      "text/plain": [
       "                 temp\n",
       "date                 \n",
       "2010-09-30  62.487083\n",
       "2010-08-31  62.405376\n",
       "2010-07-31  61.765457\n",
       "2010-06-30  60.444722\n",
       "2010-10-31  60.253091\n",
       "2010-05-31  57.970968\n",
       "2010-04-30  55.633056\n",
       "2010-11-30  55.185139\n",
       "2010-03-31  53.956528\n",
       "2010-02-28  52.243899\n",
       "2010-12-31  50.498253\n",
       "2010-01-31  49.984140"
      ]
     },
     "execution_count": 10,
     "metadata": {},
     "output_type": "execute_result"
    }
   ],
   "source": [
    "#september\n",
    "df.resample('M').mean().sort_values('temp', ascending=False)"
   ]
  },
  {
   "cell_type": "markdown",
   "id": "3ab91d4c",
   "metadata": {},
   "source": [
    "6. Resample by the day and calculate the min and max temp for the day (Hint: .agg(['min', 'max'])). Use this resampled dataframe to calculate the change in temperature for the day. Which month has the highest daily temperature variability?"
   ]
  },
  {
   "cell_type": "code",
   "execution_count": 11,
   "id": "6359318b",
   "metadata": {},
   "outputs": [
    {
     "data": {
      "text/html": [
       "<div>\n",
       "<style scoped>\n",
       "    .dataframe tbody tr th:only-of-type {\n",
       "        vertical-align: middle;\n",
       "    }\n",
       "\n",
       "    .dataframe tbody tr th {\n",
       "        vertical-align: top;\n",
       "    }\n",
       "\n",
       "    .dataframe thead tr th {\n",
       "        text-align: left;\n",
       "    }\n",
       "\n",
       "    .dataframe thead tr:last-of-type th {\n",
       "        text-align: right;\n",
       "    }\n",
       "</style>\n",
       "<table border=\"1\" class=\"dataframe\">\n",
       "  <thead>\n",
       "    <tr>\n",
       "      <th></th>\n",
       "      <th colspan=\"2\" halign=\"left\">temp</th>\n",
       "    </tr>\n",
       "    <tr>\n",
       "      <th></th>\n",
       "      <th>min</th>\n",
       "      <th>max</th>\n",
       "    </tr>\n",
       "    <tr>\n",
       "      <th>date</th>\n",
       "      <th></th>\n",
       "      <th></th>\n",
       "    </tr>\n",
       "  </thead>\n",
       "  <tbody>\n",
       "    <tr>\n",
       "      <th>2010-01-01</th>\n",
       "      <td>45.8</td>\n",
       "      <td>53.3</td>\n",
       "    </tr>\n",
       "    <tr>\n",
       "      <th>2010-01-02</th>\n",
       "      <td>46.0</td>\n",
       "      <td>53.4</td>\n",
       "    </tr>\n",
       "    <tr>\n",
       "      <th>2010-01-03</th>\n",
       "      <td>46.1</td>\n",
       "      <td>53.5</td>\n",
       "    </tr>\n",
       "    <tr>\n",
       "      <th>2010-01-04</th>\n",
       "      <td>46.1</td>\n",
       "      <td>53.6</td>\n",
       "    </tr>\n",
       "    <tr>\n",
       "      <th>2010-01-05</th>\n",
       "      <td>46.1</td>\n",
       "      <td>53.8</td>\n",
       "    </tr>\n",
       "    <tr>\n",
       "      <th>...</th>\n",
       "      <td>...</td>\n",
       "      <td>...</td>\n",
       "    </tr>\n",
       "    <tr>\n",
       "      <th>2010-12-27</th>\n",
       "      <td>45.6</td>\n",
       "      <td>53.2</td>\n",
       "    </tr>\n",
       "    <tr>\n",
       "      <th>2010-12-28</th>\n",
       "      <td>45.6</td>\n",
       "      <td>53.2</td>\n",
       "    </tr>\n",
       "    <tr>\n",
       "      <th>2010-12-29</th>\n",
       "      <td>45.6</td>\n",
       "      <td>53.2</td>\n",
       "    </tr>\n",
       "    <tr>\n",
       "      <th>2010-12-30</th>\n",
       "      <td>45.6</td>\n",
       "      <td>53.2</td>\n",
       "    </tr>\n",
       "    <tr>\n",
       "      <th>2010-12-31</th>\n",
       "      <td>45.8</td>\n",
       "      <td>53.2</td>\n",
       "    </tr>\n",
       "  </tbody>\n",
       "</table>\n",
       "<p>365 rows × 2 columns</p>\n",
       "</div>"
      ],
      "text/plain": [
       "            temp      \n",
       "             min   max\n",
       "date                  \n",
       "2010-01-01  45.8  53.3\n",
       "2010-01-02  46.0  53.4\n",
       "2010-01-03  46.1  53.5\n",
       "2010-01-04  46.1  53.6\n",
       "2010-01-05  46.1  53.8\n",
       "...          ...   ...\n",
       "2010-12-27  45.6  53.2\n",
       "2010-12-28  45.6  53.2\n",
       "2010-12-29  45.6  53.2\n",
       "2010-12-30  45.6  53.2\n",
       "2010-12-31  45.8  53.2\n",
       "\n",
       "[365 rows x 2 columns]"
      ]
     },
     "execution_count": 11,
     "metadata": {},
     "output_type": "execute_result"
    }
   ],
   "source": [
    "min_max_temp = df.resample('D').agg(['min', 'max'])\n",
    "min_max_temp"
   ]
  },
  {
   "cell_type": "code",
   "execution_count": 12,
   "id": "1ac9d374",
   "metadata": {},
   "outputs": [
    {
     "data": {
      "text/html": [
       "<div>\n",
       "<style scoped>\n",
       "    .dataframe tbody tr th:only-of-type {\n",
       "        vertical-align: middle;\n",
       "    }\n",
       "\n",
       "    .dataframe tbody tr th {\n",
       "        vertical-align: top;\n",
       "    }\n",
       "\n",
       "    .dataframe thead tr th {\n",
       "        text-align: left;\n",
       "    }\n",
       "\n",
       "    .dataframe thead tr:last-of-type th {\n",
       "        text-align: right;\n",
       "    }\n",
       "</style>\n",
       "<table border=\"1\" class=\"dataframe\">\n",
       "  <thead>\n",
       "    <tr>\n",
       "      <th></th>\n",
       "      <th colspan=\"2\" halign=\"left\">temp</th>\n",
       "      <th>change</th>\n",
       "    </tr>\n",
       "    <tr>\n",
       "      <th></th>\n",
       "      <th>min</th>\n",
       "      <th>max</th>\n",
       "      <th></th>\n",
       "    </tr>\n",
       "    <tr>\n",
       "      <th>date</th>\n",
       "      <th></th>\n",
       "      <th></th>\n",
       "      <th></th>\n",
       "    </tr>\n",
       "  </thead>\n",
       "  <tbody>\n",
       "    <tr>\n",
       "      <th>2010-01-01</th>\n",
       "      <td>45.8</td>\n",
       "      <td>53.3</td>\n",
       "      <td>7.5</td>\n",
       "    </tr>\n",
       "    <tr>\n",
       "      <th>2010-01-02</th>\n",
       "      <td>46.0</td>\n",
       "      <td>53.4</td>\n",
       "      <td>7.4</td>\n",
       "    </tr>\n",
       "    <tr>\n",
       "      <th>2010-01-03</th>\n",
       "      <td>46.1</td>\n",
       "      <td>53.5</td>\n",
       "      <td>7.4</td>\n",
       "    </tr>\n",
       "    <tr>\n",
       "      <th>2010-01-04</th>\n",
       "      <td>46.1</td>\n",
       "      <td>53.6</td>\n",
       "      <td>7.5</td>\n",
       "    </tr>\n",
       "    <tr>\n",
       "      <th>2010-01-05</th>\n",
       "      <td>46.1</td>\n",
       "      <td>53.8</td>\n",
       "      <td>7.7</td>\n",
       "    </tr>\n",
       "    <tr>\n",
       "      <th>...</th>\n",
       "      <td>...</td>\n",
       "      <td>...</td>\n",
       "      <td>...</td>\n",
       "    </tr>\n",
       "    <tr>\n",
       "      <th>2010-12-27</th>\n",
       "      <td>45.6</td>\n",
       "      <td>53.2</td>\n",
       "      <td>7.6</td>\n",
       "    </tr>\n",
       "    <tr>\n",
       "      <th>2010-12-28</th>\n",
       "      <td>45.6</td>\n",
       "      <td>53.2</td>\n",
       "      <td>7.6</td>\n",
       "    </tr>\n",
       "    <tr>\n",
       "      <th>2010-12-29</th>\n",
       "      <td>45.6</td>\n",
       "      <td>53.2</td>\n",
       "      <td>7.6</td>\n",
       "    </tr>\n",
       "    <tr>\n",
       "      <th>2010-12-30</th>\n",
       "      <td>45.6</td>\n",
       "      <td>53.2</td>\n",
       "      <td>7.6</td>\n",
       "    </tr>\n",
       "    <tr>\n",
       "      <th>2010-12-31</th>\n",
       "      <td>45.8</td>\n",
       "      <td>53.2</td>\n",
       "      <td>7.4</td>\n",
       "    </tr>\n",
       "  </tbody>\n",
       "</table>\n",
       "<p>365 rows × 3 columns</p>\n",
       "</div>"
      ],
      "text/plain": [
       "            temp       change\n",
       "             min   max       \n",
       "date                         \n",
       "2010-01-01  45.8  53.3    7.5\n",
       "2010-01-02  46.0  53.4    7.4\n",
       "2010-01-03  46.1  53.5    7.4\n",
       "2010-01-04  46.1  53.6    7.5\n",
       "2010-01-05  46.1  53.8    7.7\n",
       "...          ...   ...    ...\n",
       "2010-12-27  45.6  53.2    7.6\n",
       "2010-12-28  45.6  53.2    7.6\n",
       "2010-12-29  45.6  53.2    7.6\n",
       "2010-12-30  45.6  53.2    7.6\n",
       "2010-12-31  45.8  53.2    7.4\n",
       "\n",
       "[365 rows x 3 columns]"
      ]
     },
     "execution_count": 12,
     "metadata": {},
     "output_type": "execute_result"
    }
   ],
   "source": [
    "min_max_temp['change'] = min_max_temp['temp']['max']-min_max_temp['temp']['min']\n",
    "min_max_temp"
   ]
  },
  {
   "cell_type": "code",
   "execution_count": 13,
   "id": "6ed3e8b2",
   "metadata": {},
   "outputs": [
    {
     "data": {
      "text/plain": [
       "date\n",
       "2010-12-31     7.925806\n",
       "2010-01-31     8.341935\n",
       "2010-02-28     9.485714\n",
       "2010-11-30    10.236667\n",
       "2010-03-31    10.854839\n",
       "2010-04-30    12.320000\n",
       "2010-05-31    12.909677\n",
       "2010-10-31    13.432258\n",
       "2010-08-31    13.870968\n",
       "2010-06-30    13.950000\n",
       "2010-07-31    13.977419\n",
       "2010-09-30    14.403333\n",
       "Name: change, dtype: float64"
      ]
     },
     "execution_count": 13,
     "metadata": {},
     "output_type": "execute_result"
    }
   ],
   "source": [
    "#september had the highest change\n",
    "min_max_temp.resample('M').change.mean().sort_values()"
   ]
  },
  {
   "cell_type": "markdown",
   "id": "9ac17b16",
   "metadata": {},
   "source": [
    "7. Bonus: Visualize the daily min, average, and max temperature over time on a single line plot, i.e. the min, average, and maximum temperature should be 3 seperate lines."
   ]
  },
  {
   "cell_type": "code",
   "execution_count": 14,
   "id": "a78ac460",
   "metadata": {},
   "outputs": [
    {
     "data": {
      "text/plain": [
       "<AxesSubplot:xlabel='date'>"
      ]
     },
     "execution_count": 14,
     "metadata": {},
     "output_type": "execute_result"
    },
    {
     "data": {
      "image/png": "[encoded data removed]",
      "text/plain": [
       "<Figure size 432x288 with 1 Axes>"
      ]
     },
     "metadata": {
      "needs_background": "light"
     },
     "output_type": "display_data"
    }
   ],
   "source": [
    "stats_temp = df.resample('D').agg(['min', 'max', 'mean'])\n",
    "stats_temp.plot()"
   ]
  },
  {
   "cell_type": "markdown",
   "id": "2c4789f7",
   "metadata": {},
   "source": [
    "## `seattle_weather`\n",
    "\n",
    "Use the dataset to answer the following questions:\n",
    "\n",
    "- Which year and month combination has the highest amount of precipitation?\n",
    "- Visualize the amount of monthly precipitation over time.\n",
    "- Visualize the amount of wind over time. Choose a time interval you think is appropriate.\n",
    "- Which year-month combination is the windiest?\n",
    "- What's the sunniest year? (Hint: which day has the highest number of days where weather == sun?)\n",
    "- In which month does it rain the most?\n",
    "- Which month has the most number of days with a non-zero amount of precipitation?"
   ]
  },
  {
   "cell_type": "code",
   "execution_count": 15,
   "id": "9a4d1615",
   "metadata": {},
   "outputs": [
    {
     "data": {
      "text/html": [
       "<div>\n",
       "<style scoped>\n",
       "    .dataframe tbody tr th:only-of-type {\n",
       "        vertical-align: middle;\n",
       "    }\n",
       "\n",
       "    .dataframe tbody tr th {\n",
       "        vertical-align: top;\n",
       "    }\n",
       "\n",
       "    .dataframe thead th {\n",
       "        text-align: right;\n",
       "    }\n",
       "</style>\n",
       "<table border=\"1\" class=\"dataframe\">\n",
       "  <thead>\n",
       "    <tr style=\"text-align: right;\">\n",
       "      <th></th>\n",
       "      <th>precipitation</th>\n",
       "      <th>temp_max</th>\n",
       "      <th>temp_min</th>\n",
       "      <th>wind</th>\n",
       "      <th>weather</th>\n",
       "    </tr>\n",
       "    <tr>\n",
       "      <th>date</th>\n",
       "      <th></th>\n",
       "      <th></th>\n",
       "      <th></th>\n",
       "      <th></th>\n",
       "      <th></th>\n",
       "    </tr>\n",
       "  </thead>\n",
       "  <tbody>\n",
       "    <tr>\n",
       "      <th>2012-01-01</th>\n",
       "      <td>0.0</td>\n",
       "      <td>12.8</td>\n",
       "      <td>5.0</td>\n",
       "      <td>4.7</td>\n",
       "      <td>drizzle</td>\n",
       "    </tr>\n",
       "    <tr>\n",
       "      <th>2012-01-02</th>\n",
       "      <td>10.9</td>\n",
       "      <td>10.6</td>\n",
       "      <td>2.8</td>\n",
       "      <td>4.5</td>\n",
       "      <td>rain</td>\n",
       "    </tr>\n",
       "    <tr>\n",
       "      <th>2012-01-03</th>\n",
       "      <td>0.8</td>\n",
       "      <td>11.7</td>\n",
       "      <td>7.2</td>\n",
       "      <td>2.3</td>\n",
       "      <td>rain</td>\n",
       "    </tr>\n",
       "    <tr>\n",
       "      <th>2012-01-04</th>\n",
       "      <td>20.3</td>\n",
       "      <td>12.2</td>\n",
       "      <td>5.6</td>\n",
       "      <td>4.7</td>\n",
       "      <td>rain</td>\n",
       "    </tr>\n",
       "    <tr>\n",
       "      <th>2012-01-05</th>\n",
       "      <td>1.3</td>\n",
       "      <td>8.9</td>\n",
       "      <td>2.8</td>\n",
       "      <td>6.1</td>\n",
       "      <td>rain</td>\n",
       "    </tr>\n",
       "    <tr>\n",
       "      <th>...</th>\n",
       "      <td>...</td>\n",
       "      <td>...</td>\n",
       "      <td>...</td>\n",
       "      <td>...</td>\n",
       "      <td>...</td>\n",
       "    </tr>\n",
       "    <tr>\n",
       "      <th>2015-12-27</th>\n",
       "      <td>8.6</td>\n",
       "      <td>4.4</td>\n",
       "      <td>1.7</td>\n",
       "      <td>2.9</td>\n",
       "      <td>fog</td>\n",
       "    </tr>\n",
       "    <tr>\n",
       "      <th>2015-12-28</th>\n",
       "      <td>1.5</td>\n",
       "      <td>5.0</td>\n",
       "      <td>1.7</td>\n",
       "      <td>1.3</td>\n",
       "      <td>fog</td>\n",
       "    </tr>\n",
       "    <tr>\n",
       "      <th>2015-12-29</th>\n",
       "      <td>0.0</td>\n",
       "      <td>7.2</td>\n",
       "      <td>0.6</td>\n",
       "      <td>2.6</td>\n",
       "      <td>fog</td>\n",
       "    </tr>\n",
       "    <tr>\n",
       "      <th>2015-12-30</th>\n",
       "      <td>0.0</td>\n",
       "      <td>5.6</td>\n",
       "      <td>-1.0</td>\n",
       "      <td>3.4</td>\n",
       "      <td>sun</td>\n",
       "    </tr>\n",
       "    <tr>\n",
       "      <th>2015-12-31</th>\n",
       "      <td>0.0</td>\n",
       "      <td>5.6</td>\n",
       "      <td>-2.1</td>\n",
       "      <td>3.5</td>\n",
       "      <td>sun</td>\n",
       "    </tr>\n",
       "  </tbody>\n",
       "</table>\n",
       "<p>1461 rows × 5 columns</p>\n",
       "</div>"
      ],
      "text/plain": [
       "            precipitation  temp_max  temp_min  wind  weather\n",
       "date                                                        \n",
       "2012-01-01            0.0      12.8       5.0   4.7  drizzle\n",
       "2012-01-02           10.9      10.6       2.8   4.5     rain\n",
       "2012-01-03            0.8      11.7       7.2   2.3     rain\n",
       "2012-01-04           20.3      12.2       5.6   4.7     rain\n",
       "2012-01-05            1.3       8.9       2.8   6.1     rain\n",
       "...                   ...       ...       ...   ...      ...\n",
       "2015-12-27            8.6       4.4       1.7   2.9      fog\n",
       "2015-12-28            1.5       5.0       1.7   1.3      fog\n",
       "2015-12-29            0.0       7.2       0.6   2.6      fog\n",
       "2015-12-30            0.0       5.6      -1.0   3.4      sun\n",
       "2015-12-31            0.0       5.6      -2.1   3.5      sun\n",
       "\n",
       "[1461 rows x 5 columns]"
      ]
     },
     "execution_count": 15,
     "metadata": {},
     "output_type": "execute_result"
    }
   ],
   "source": [
    "df = data.seattle_weather().set_index('date')\n",
    "df"
   ]
  },
  {
   "cell_type": "markdown",
   "id": "92d91f0b",
   "metadata": {},
   "source": [
    "- Which year and month combination has the highest amount of precipitation?"
   ]
  },
  {
   "cell_type": "code",
   "execution_count": 16,
   "id": "90f5cdfb",
   "metadata": {},
   "outputs": [
    {
     "data": {
      "text/plain": [
       "date\n",
       "2014-12-31    1232.8\n",
       "2012-12-31    1226.0\n",
       "2015-12-31    1139.2\n",
       "2013-12-31     828.0\n",
       "Name: precipitation, dtype: float64"
      ]
     },
     "execution_count": 16,
     "metadata": {},
     "output_type": "execute_result"
    }
   ],
   "source": [
    "#2014 had the highest precipitation\n",
    "df.resample('Y').precipitation.sum().sort_values(ascending=False)"
   ]
  },
  {
   "cell_type": "code",
   "execution_count": 17,
   "id": "e3f912dc",
   "metadata": {},
   "outputs": [
    {
     "data": {
      "text/plain": [
       "date\n",
       "2015-12-31    284.5\n",
       "2014-03-31    240.0\n",
       "2015-11-30    212.6\n",
       "Name: precipitation, dtype: float64"
      ]
     },
     "execution_count": 17,
     "metadata": {},
     "output_type": "execute_result"
    }
   ],
   "source": [
    "# december 2015 had the highest precipitation\n",
    "# March 2014 was the wettest month in the wettest year\n",
    "df.resample('M').precipitation.sum().sort_values(ascending=False)[:3]"
   ]
  },
  {
   "cell_type": "markdown",
   "id": "30c9696c",
   "metadata": {},
   "source": [
    "- Visualize the amount of monthly precipitation over time."
   ]
  },
  {
   "cell_type": "code",
   "execution_count": 18,
   "id": "81f60e0a",
   "metadata": {},
   "outputs": [
    {
     "data": {
      "text/plain": [
       "<AxesSubplot:xlabel='date'>"
      ]
     },
     "execution_count": 18,
     "metadata": {},
     "output_type": "execute_result"
    },
    {
     "data": {
      "image/png": "[encoded data removed]",
      "text/plain": [
       "<Figure size 432x288 with 1 Axes>"
      ]
     },
     "metadata": {
      "needs_background": "light"
     },
     "output_type": "display_data"
    }
   ],
   "source": [
    "df.resample('M').precipitation.sum().plot()"
   ]
  },
  {
   "cell_type": "markdown",
   "id": "0b1a56d7",
   "metadata": {},
   "source": [
    "- Visualize the amount of wind over time. Choose a time interval you think is appropriate.\n",
    "\n",
    "Wind seems pretty variable over time of day, so do it by day.  But this makes for a busy plot, so maybe by month.  In reality, this is decided by use case."
   ]
  },
  {
   "cell_type": "code",
   "execution_count": 19,
   "id": "6ba58d26",
   "metadata": {},
   "outputs": [
    {
     "data": {
      "text/plain": [
       "<AxesSubplot:xlabel='date'>"
      ]
     },
     "execution_count": 19,
     "metadata": {},
     "output_type": "execute_result"
    },
    {
     "data": {
      "image/png": "[encoded data removed]",
      "text/plain": [
       "<Figure size 1080x432 with 1 Axes>"
      ]
     },
     "metadata": {
      "needs_background": "light"
     },
     "output_type": "display_data"
    }
   ],
   "source": [
    "plt.figure(figsize = (15, 6))\n",
    "df.resample('D').wind.mean().plot()"
   ]
  },
  {
   "cell_type": "code",
   "execution_count": 20,
   "id": "c894b641",
   "metadata": {},
   "outputs": [
    {
     "data": {
      "text/plain": [
       "<AxesSubplot:xlabel='date'>"
      ]
     },
     "execution_count": 20,
     "metadata": {},
     "output_type": "execute_result"
    },
    {
     "data": {
      "image/png": "[encoded data removed]",
      "text/plain": [
       "<Figure size 1080x432 with 1 Axes>"
      ]
     },
     "metadata": {
      "needs_background": "light"
     },
     "output_type": "display_data"
    }
   ],
   "source": [
    "plt.figure(figsize = (15, 6))\n",
    "df.resample('M').wind.mean().plot()"
   ]
  },
  {
   "cell_type": "markdown",
   "id": "023f17b8",
   "metadata": {},
   "source": [
    "- Which year-month combination is the windiest?"
   ]
  },
  {
   "cell_type": "code",
   "execution_count": 21,
   "id": "767be39a",
   "metadata": {},
   "outputs": [
    {
     "data": {
      "text/plain": [
       "date\n",
       "2014-12-31    3.10\n",
       "2012-12-31    3.05\n",
       "2015-12-31    2.90\n",
       "2013-12-31    2.70\n",
       "Name: wind, dtype: float64"
      ]
     },
     "execution_count": 21,
     "metadata": {},
     "output_type": "execute_result"
    }
   ],
   "source": [
    "#2014 had at least half year with winds over 3.1\n",
    "df.resample('Y').wind.median().sort_values(ascending=False)"
   ]
  },
  {
   "cell_type": "code",
   "execution_count": 22,
   "id": "f2912e80",
   "metadata": {},
   "outputs": [
    {
     "data": {
      "text/plain": [
       "date\n",
       "2014-02-28    4.55\n",
       "2012-01-31    4.50\n",
       "2015-12-31    4.30\n",
       "Name: wind, dtype: float64"
      ]
     },
     "execution_count": 22,
     "metadata": {},
     "output_type": "execute_result"
    }
   ],
   "source": [
    "#Feb 2014 had at least half the days with winds over 4.55\n",
    "df.resample('M').wind.median().sort_values(ascending=False)[:3]"
   ]
  },
  {
   "cell_type": "markdown",
   "id": "aa992449",
   "metadata": {},
   "source": [
    "- What's the sunniest year? (Hint: which day has the highest number of days where weather == sun?)"
   ]
  },
  {
   "cell_type": "code",
   "execution_count": 23,
   "id": "e30038a6",
   "metadata": {},
   "outputs": [
    {
     "data": {
      "text/plain": [
       "date        weather\n",
       "2012-12-31  rain       191\n",
       "            sun        118\n",
       "            drizzle     31\n",
       "            snow        21\n",
       "            fog          5\n",
       "2013-12-31  sun        205\n",
       "            fog         82\n",
       "            rain        60\n",
       "            drizzle     16\n",
       "            snow         2\n",
       "2014-12-31  sun        211\n",
       "            fog        151\n",
       "            rain         3\n",
       "2015-12-31  sun        180\n",
       "            fog        173\n",
       "            drizzle      7\n",
       "            rain         5\n",
       "Name: weather, dtype: int64"
      ]
     },
     "execution_count": 23,
     "metadata": {},
     "output_type": "execute_result"
    }
   ],
   "source": [
    "#2014 had the most sunny days\n",
    "df.resample('Y').weather.value_counts()"
   ]
  },
  {
   "cell_type": "markdown",
   "id": "44fd0a12",
   "metadata": {},
   "source": [
    "- In which month does it rain the most?\n",
    "\n",
    "This could mean two things: 1) the rainest month in the data set or 2) which month is usally the rainiest (avg over all the same mont for every year of the dataset)"
   ]
  },
  {
   "cell_type": "code",
   "execution_count": 24,
   "id": "725ffef7",
   "metadata": {},
   "outputs": [
    {
     "data": {
      "text/plain": [
       "date        weather\n",
       "2012-11-30  rain       25\n",
       "2013-02-28  rain       23\n",
       "2012-12-31  rain       23\n",
       "Name: weather, dtype: int64"
      ]
     },
     "execution_count": 24,
     "metadata": {},
     "output_type": "execute_result"
    }
   ],
   "source": [
    "#Nov 2014 had the most rainy days\n",
    "df[df.weather == 'rain'].resample('M').weather.value_counts().sort_values(ascending=False)[:3]"
   ]
  },
  {
   "cell_type": "code",
   "execution_count": 56,
   "id": "1aa4ca1b",
   "metadata": {},
   "outputs": [
    {
     "data": {
      "text/plain": [
       "month\n",
       "11    5.354167\n",
       "12    5.021774\n",
       "3     4.888710\n",
       "Name: precipitation, dtype: float64"
      ]
     },
     "execution_count": 56,
     "metadata": {},
     "output_type": "execute_result"
    }
   ],
   "source": [
    "#november is the rainiest month on average\n",
    "df = df.reset_index()\n",
    "df['month'] = df.date.dt.month\n",
    "df.groupby('month').precipitation.mean().sort_values(ascending=False)[:3]"
   ]
  },
  {
   "cell_type": "markdown",
   "id": "e89dc737",
   "metadata": {},
   "source": [
    "- Which month has the most number of days with a non-zero amount of precipitation?\n",
    "\n",
    "Assume this is asking for a proportion of days of the month where precipitation > 0."
   ]
  },
  {
   "cell_type": "code",
   "execution_count": 55,
   "id": "680d218b",
   "metadata": {},
   "outputs": [
    {
     "data": {
      "text/plain": [
       "date\n",
       "2012-12-31    0.870968\n",
       "2015-12-31    0.806452\n",
       "2012-01-31    0.709677\n",
       "Name: precipitation, dtype: float64"
      ]
     },
     "execution_count": 55,
     "metadata": {},
     "output_type": "execute_result"
    }
   ],
   "source": [
    "#december 2012 had the highest proportion of days with precipitation > 0\n",
    "precip_prop = df[df.precipitation > 0].set_index('date').resample('M').precipitation.count()/df.set_index('date').resample('M').precipitation.count()\n",
    "precip_prop.sort_values(ascending=False)[:3]"
   ]
  },
  {
   "cell_type": "code",
   "execution_count": 66,
   "id": "a2e93f8b",
   "metadata": {},
   "outputs": [
    {
     "data": {
      "text/plain": [
       "month\n",
       "12    0.653226\n",
       "2     0.646018\n",
       "11    0.591667\n",
       "dtype: float64"
      ]
     },
     "execution_count": 66,
     "metadata": {},
     "output_type": "execute_result"
    }
   ],
   "source": [
    "#decembers had the highest proportion of days where precipitation > 0\n",
    "(df[df.precipitation > 0].groupby('month').precipitation.count()/df.groupby('month').month.count()).sort_values(ascending=False)[:3]"
   ]
  },
  {
   "cell_type": "code",
   "execution_count": null,
   "id": "ededc870",
   "metadata": {},
   "outputs": [],
   "source": []
  }
 ],
 "metadata": {
  "kernelspec": {
   "display_name": "Python 3 (ipykernel)",
   "language": "python",
   "name": "python3"
  },
  "language_info": {
   "codemirror_mode": {
    "name": "ipython",
    "version": 3
   },
   "file_extension": ".py",
   "mimetype": "text/x-python",
   "name": "python",
   "nbconvert_exporter": "python",
   "pygments_lexer": "ipython3",
   "version": "3.9.12"
  }
 },
 "nbformat": 4,
 "nbformat_minor": 5
}
